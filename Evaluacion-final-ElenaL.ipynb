{
 "cells": [
  {
   "cell_type": "code",
   "execution_count": 8,
   "metadata": {},
   "outputs": [],
   "source": [
    "# CREAR CLASE TIENDAONLINE\n",
    "\n",
    "class Tiendaonline:\n",
    "\n",
    "# Crear el método constructor __init__\n",
    "\n",
    "    def __init__(self):\n",
    "        self.inventario =  [] # [{Nombre, Precio, Stock}]\n",
    "        self.clientes = {} # {'Cliente1': {'email':'cliente1@email.com','compras':[] }},\n",
    "        self.ventas = 0.0 # al inciio tipo float con valor 0\n",
    "\n",
    "\n",
    "# 1. Agregar método: agregar_producto\n",
    "\n",
    "    def agregar_producto(self, nombre, precio, cantidad):           \n",
    "        # Itera la lista del inventario y compara los nombres para ver si existe\n",
    "        for producto in self.inventario:\n",
    "            # Si el producto ya existe, actualiza la cantidad\n",
    "            if nombre == producto[\"Nombre\"]:                                     \n",
    "                producto[\"Stock\"] += cantidad\n",
    "                nueva_cantidad = producto[\"Stock\"] # Aquí actualizamos el nuevo valor de Stock a nueva_cantidad          \n",
    "                print(f\"El producto {nombre} está en el inventario. Su nueva cantidad es: {nueva_cantidad}\")\n",
    "                return\n",
    "            \n",
    "            # Si no existe, se agrega al inventario\n",
    "        self.inventario.append({\"Nombre\": nombre, \"Precio\": precio, \"Stock\": cantidad})   # Si no existe, se agrega un nuevo producto al inventario  \n",
    "        print(f\"El producto se ha añadido correctamente: Nombre: {nombre.capitalize()}, Precio: {precio}, Cantidad {cantidad}\")  \n",
    "\n",
    "# 2. Agregar método ver inventario, permite ver lista de diccionarios de los datos del producto\n",
    "\n",
    "    def ver_inventario(self): \n",
    "        for producto in self.inventario:\n",
    "            print(producto)\n",
    "\n",
    "# 3. Agregar método buscar_producto, permite ver si un producto está en el inventario\n",
    "\n",
    "    def buscar_producto (self, nombre):\n",
    "        self.nombre = nombre\n",
    "        for producto in self.inventario: # Compara los nombres de los productos con el nombre proporcionado.\n",
    "            if nombre == producto[\"Nombre\"]:\n",
    "                print(producto) # Si se encuentra el producto, imprime sus detalles.\n",
    "            \n",
    "            else:\n",
    "                print(f\"El producto {self.nombre} no existe en el inventario\")\n",
    "\n",
    "# 4. Agregar actualizar_stock, actualiza el stock de un producto en el inventario\n",
    "\n",
    "    def actualizar_stock(self, nombre, cantidad):\n",
    "         for producto in self.inventario:\n",
    "            # Si el producto ya existe, actualiza la cantidad según la cantidad dada por el usuario\n",
    "            if nombre == producto[\"Nombre\"]:                                     \n",
    "                producto[\"Stock\"] == cantidad            \n",
    "                print(f\"El producto {nombre} está en el inventario. Su nueva cantidad es: {cantidad}\")\n",
    "                break\n",
    "            # Si no existe, muestra mensaje indicándolo  \n",
    "            else:\n",
    "                print(f\"El producto {nombre} no existe en el inventario\") \n",
    "            "
   ]
  },
  {
   "cell_type": "code",
   "execution_count": 9,
   "metadata": {},
   "outputs": [],
   "source": [
    "myshop = Tiendaonline()\n"
   ]
  }
 ],
 "metadata": {
  "kernelspec": {
   "display_name": "base",
   "language": "python",
   "name": "python3"
  },
  "language_info": {
   "codemirror_mode": {
    "name": "ipython",
    "version": 3
   },
   "file_extension": ".py",
   "mimetype": "text/x-python",
   "name": "python",
   "nbconvert_exporter": "python",
   "pygments_lexer": "ipython3",
   "version": "3.11.9"
  }
 },
 "nbformat": 4,
 "nbformat_minor": 2
}
