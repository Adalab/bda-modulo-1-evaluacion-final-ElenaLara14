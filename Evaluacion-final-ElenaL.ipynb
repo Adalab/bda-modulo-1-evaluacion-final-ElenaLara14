{
 "cells": [
  {
   "cell_type": "code",
   "execution_count": 61,
   "metadata": {},
   "outputs": [],
   "source": [
    "# CREAR CLASE TIENDAONLINE\n",
    "\n",
    "class Tiendaonline:\n",
    "\n",
    "# Crear el método constructor __init__\n",
    "\n",
    "    def __init__(self):\n",
    "        self.inventario =  [] # [{Nombre, Precio, Stock}]\n",
    "        self.clientes = {} # {'Cliente1': {'email':'cliente1@email.com','compras':[] }},\n",
    "        self.ventas = 0.0 # al inicio tipo float con valor 0\n",
    "\n",
    "\n",
    "# a. Agregar método: agregar_producto\n",
    "\n",
    "    def agregar_producto(self, nombre, precio, cantidad):           \n",
    "        # Itera la lista del inventario y compara los nombres para ver si existe\n",
    "        for producto in self.inventario:\n",
    "            # Si el producto ya existe, actualiza la cantidad\n",
    "            if nombre.lower() == producto[\"Nombre\"]:                                     \n",
    "                producto[\"Stock\"] += cantidad\n",
    "                nueva_cantidad = producto[\"Stock\"] # Aquí actualizamos el nuevo valor de Stock a nueva_cantidad          \n",
    "                print(f\"El producto {nombre} está en el inventario. Su nueva cantidad es: {nueva_cantidad}\")\n",
    "                return\n",
    "            \n",
    "            # Si no existe, se agrega al inventario\n",
    "        self.inventario.append({\"Nombre\": nombre, \"Precio\": precio, \"Stock\": cantidad})   # Si no existe, se agrega un nuevo producto al inventario  \n",
    "        print(f\"El producto se ha añadido correctamente: Nombre: {nombre.capitalize()}, Precio: {precio}, Cantidad: {cantidad}\")  \n",
    "\n",
    "# b. Agregar método ver inventario, permite ver lista de diccionarios de los datos del producto\n",
    "\n",
    "    def ver_inventario(self): \n",
    "        for producto in self.inventario:\n",
    "            print(producto)\n",
    "\n",
    "# c. Agregar método buscar_producto, permite ver si un producto está en el inventario\n",
    "\n",
    "    def buscar_producto (self, nombre):\n",
    "        self.nombre = nombre\n",
    "        for producto in self.inventario: # Compara los nombres de los productos con el nombre proporcionado.\n",
    "            if nombre.lower() == producto[\"Nombre\"]:\n",
    "                nueva_cantidad = producto[\"Stock\"] \n",
    "                print(f\"{producto['Nombre']}, {producto['Precio']}, {nueva_cantidad}\") # Si se encuentra el producto, imprime sus detalles.\n",
    "                return\n",
    "            \n",
    "            else:\n",
    "                print(f\"El producto {self.nombre} no existe en el inventario\")\n",
    "\n",
    "# d. Agregar método actualizar_stock, actualiza el stock de un producto en el inventario\n",
    "\n",
    "    def actualizar_stock(self, nombre, cantidad):\n",
    "         for producto in self.inventario:\n",
    "            # Si el producto ya existe, actualiza la cantidad según la cantidad dada por el usuario\n",
    "            if nombre.lower() == producto[\"Nombre\"]:                                     \n",
    "                producto[\"Stock\"] == cantidad            \n",
    "                print(f\"El producto {nombre} está en el inventario. Su nueva cantidad es: {cantidad}\")\n",
    "                return\n",
    "            # Si no existe, muestra mensaje indicándolo  \n",
    "            else:\n",
    "                print(f\"El producto {nombre} no existe en el inventario\") \n",
    "\n",
    "# e. Agregar método eliminar_producto, elimina un producto del inventario por nombre.\n",
    "\n",
    "    def eliminar_producto(self, nombre):\n",
    "        for producto in self.inventario:\n",
    "            # Si el producto existe, eliminarlo\n",
    "            if nombre.lower() == producto[\"Nombre\"]:                                     \n",
    "                self.inventario.remove(producto)         \n",
    "                print(f\"El producto {nombre} se ha eliminado correctamente\")\n",
    "                return\n",
    "            # Si no existe, muestra mensaje indicándolo  \n",
    "            else:\n",
    "                print(f\"El producto {nombre} no existe en el inventario\")\n",
    "\n",
    "# f. Agregar método calcular_valor_inventario, calcula y muestra el valor total del inventario.\n",
    "\n",
    "    def calcular_valor_inventario(self):\n",
    "        for producto in self.inventario:\n",
    "            valor_producto = producto[\"Precio\"] * producto[\"Stock\"] # multiplicamos cada producto por su valor\n",
    "        \n",
    "        return f\"El valor total del inventario es {valor_producto} €\"\n",
    "        \n",
    "# g. Agregar método realizar_compra, permite a un cliente realizar una compra seleccionando productos del inventario\n",
    "\n",
    "    def realizar_compra(self):\n",
    "        self.carrito = [] # cesta donde almacenamos los productos que quiere el cliente\n",
    "        \n",
    "        while True:\n",
    "           # imprimimos el inventario\n",
    "            print(\"Inventario actual:\")\n",
    "            self.ver_inventario()\n",
    "\n",
    "            # Preguntamos al cliente por sus preferencias de compra\n",
    "            producto_compra = input(\"Indica que producto deseas comprar:  o teclea 'terminar' para salir\")\n",
    "            \n",
    "            if producto_compra.lower() == 'terminar':\n",
    "                break # salimos de la compra porque el cliente pulsa esc\n",
    "            \n",
    "            for producto in self.inventario: \n",
    "                if producto['Nombre'].lower() == producto_compra.lower():# Verificamos que el producto está en el inventario\n",
    "\n",
    "                    # Preguntamos al cliente por las unidades que quiere comprar\n",
    "                    unidades_compra = int(input(f\"Cantidad de unidades que deseas comprar de '{producto_compra}': \"))\n",
    "              \n",
    "                    if unidades_compra > producto['Stock']:\n",
    "                        print(f\"No hay suficiente stock de '{producto_compra}'. Indica una cantidad correcta que aparece en el inventario\")\n",
    "                    else:\n",
    "                        # Agregar el producto y la cantidad al carrito\n",
    "                        self.carrito.append({\"Nombre\": producto['Nombre'], \"Precio\": producto['Precio'], \"Cantidad\": unidades_compra})\n",
    "                        producto['Stock'] -= unidades_compra # Actualizamos el stock quitando unidades compradas\n",
    "                        print(f\"✔️Se han añadido {unidades_compra} unidades de '{producto_compra}' al carrito.\")\n",
    "                        print (\"----------------------------------------------------------------------------\")\n",
    "                    break\n",
    "            \n",
    "            else:\n",
    "                print(f\"El producto '{producto_compra}' no está disponible en el inventario.\")\n",
    "        \n",
    "        print(\"➖➖➖➖➖➖➖➖➖➖➖➖➖➖➖➖➖➖➖\")\n",
    "        print(\"La cesta de la compra es: \") # Mostramos carrito de la compra iterando por producto y coste \n",
    "        total_compra = 0\n",
    "        for producto in self.carrito:\n",
    "            print(f\"Producto: {producto['Nombre']}, Precio unitario: {producto['Precio']}, Cantidad: {producto['Cantidad']}\")\n",
    "            total_compra += producto['Precio'] * producto['Cantidad'] # actualizamos la variable total compra\n",
    "\n",
    "        print(f\"El valor total del carrito es {total_compra} €. Gracias vuelva pronto.\")\n",
    "        \n",
    "\n",
    "# EJERCICIOS VOLUNTARIOS \n",
    "# h. Agregar método procesar_pago, procesa el pago de una compra, calcula el cambio y muestra un mensaje de confirmación\n",
    "    def procesar_pago(self):\n",
    "        # Vuelvo a meter función de arriba para que nos indique el total de compra\n",
    "        total_compra = 0\n",
    "        for producto in self.carrito:\n",
    "            total_compra += producto['Precio'] * producto['Cantidad']\n",
    "\n",
    "        print(f\"El valor total del carrito es {total_compra} €\")\n",
    "\n",
    "        while True: # pongo bucle para iterar hasta se complete el pago\n",
    "            try:\n",
    "            # Solicitamos al cliente la cantidad con la que va a pagar, pongo decimal por si indican 50,50\n",
    "                cantidad_pago = float(input(\"Ingrese la cantidad de € con los que va a pagar: \"))\n",
    "            \n",
    "                if cantidad_pago < total_compra: # Avisa al cliente de que no es suficiente dinero\n",
    "                    print(\"Error: cantidad insuficiente para cubrir el total de la compra.\")\n",
    "   \n",
    "                else: \n",
    "                    cambio = cantidad_pago - total_compra # Calcula el cambio si la cantidad es superior a total_compra\n",
    "                    print(f\"Pago correcto. Su cambio es {cambio:.2f} €\")\n",
    "                    break\n",
    "\n",
    "            except ValueError as e: # Metemos el except con el truquito \"e\" para que si no meten un dígito retorne el error\n",
    "                print(f\"Error: {e}. Introduzca un valor válido.\")\n",
    "    \n",
    "# i. Agregar método agregar_cliente, agrega un nuevo cliente al registro de clientes\n",
    "    def agregar_cliente(self, nombre, email):\n",
    "        nombre_cliente = nombre.lower()  # Convertimos el nombre a minúsculas para evitar duplicados por mayúsculas/minúsculas\n",
    "\n",
    "        if nombre_cliente in self.clientes:  # Verificamos si el cliente ya existe en el diccionario\n",
    "            print(f\"El cliente {nombre.capitalize()} ya existe\")\n",
    "        else:\n",
    "            self.clientes[nombre_cliente] = email  # Agregamos el nuevo cliente al diccionario, con nombre cliente como clave y email como valor\n",
    "            print(f\"El cliente se ha añadido correctamente: Nombre: {nombre.capitalize()}, Email: {email}\")"
   ]
  },
  {
   "cell_type": "code",
   "execution_count": 62,
   "metadata": {},
   "outputs": [],
   "source": [
    "myshop = Tiendaonline()"
   ]
  },
  {
   "cell_type": "code",
   "execution_count": 3,
   "metadata": {},
   "outputs": [
    {
     "name": "stdout",
     "output_type": "stream",
     "text": [
      "El producto se ha añadido correctamente: Nombre: Botella, Precio: 5, Cantidad: 4\n",
      "El producto botella está en el inventario. Su nueva cantidad es: 8\n",
      "{'Nombre': 'botella', 'Precio': 5, 'Stock': 8}\n"
     ]
    }
   ],
   "source": [
    "myshop.inventario\n",
    "myshop.agregar_producto(\"botella\",5, 4)\n",
    "myshop.agregar_producto(\"botella\",5, 4)\n",
    "myshop.ver_inventario()"
   ]
  },
  {
   "cell_type": "code",
   "execution_count": 4,
   "metadata": {},
   "outputs": [
    {
     "name": "stdout",
     "output_type": "stream",
     "text": [
      "botella, 5, 8\n",
      "El producto camisa no existe en el inventario\n",
      "{'Nombre': 'botella', 'Precio': 5, 'Stock': 8}\n"
     ]
    }
   ],
   "source": [
    "myshop.buscar_producto(\"Botella\")\n",
    "myshop.buscar_producto(\"camisa\")\n",
    "myshop.ver_inventario()"
   ]
  },
  {
   "cell_type": "code",
   "execution_count": 5,
   "metadata": {},
   "outputs": [
    {
     "name": "stdout",
     "output_type": "stream",
     "text": [
      "El producto Camisa no existe en el inventario\n",
      "El producto botella está en el inventario. Su nueva cantidad es: 5\n"
     ]
    }
   ],
   "source": [
    "myshop.actualizar_stock(\"Camisa\",2)\n",
    "myshop.actualizar_stock(\"botella\",5)"
   ]
  },
  {
   "cell_type": "code",
   "execution_count": 6,
   "metadata": {},
   "outputs": [
    {
     "name": "stdout",
     "output_type": "stream",
     "text": [
      "El producto se ha añadido correctamente: Nombre: Camisa, Precio: 3, Cantidad: 20\n",
      "{'Nombre': 'botella', 'Precio': 5, 'Stock': 8}\n",
      "{'Nombre': 'camisa', 'Precio': 3, 'Stock': 20}\n",
      "El producto Botella se ha eliminado correctamente\n",
      "El producto se ha añadido correctamente: Nombre: Falda, Precio: 10, Cantidad: 15\n",
      "{'Nombre': 'camisa', 'Precio': 3, 'Stock': 20}\n",
      "{'Nombre': 'falda', 'Precio': 10, 'Stock': 15}\n"
     ]
    }
   ],
   "source": [
    "myshop.agregar_producto(\"camisa\",3, 20)\n",
    "myshop.ver_inventario()\n",
    "myshop.eliminar_producto(\"Botella\")\n",
    "myshop.agregar_producto(\"falda\",10, 15)\n",
    "myshop.ver_inventario()"
   ]
  },
  {
   "cell_type": "code",
   "execution_count": 7,
   "metadata": {},
   "outputs": [
    {
     "data": {
      "text/plain": [
       "'El valor total del inventario es 150 €'"
      ]
     },
     "execution_count": 7,
     "metadata": {},
     "output_type": "execute_result"
    }
   ],
   "source": [
    "myshop.calcular_valor_inventario()"
   ]
  },
  {
   "cell_type": "code",
   "execution_count": 8,
   "metadata": {},
   "outputs": [
    {
     "name": "stdout",
     "output_type": "stream",
     "text": [
      "Inventario actual:\n",
      "{'Nombre': 'camisa', 'Precio': 3, 'Stock': 20}\n",
      "{'Nombre': 'falda', 'Precio': 10, 'Stock': 15}\n",
      "El producto 'vestido' no está disponible en el inventario.\n",
      "Inventario actual:\n",
      "{'Nombre': 'camisa', 'Precio': 3, 'Stock': 20}\n",
      "{'Nombre': 'falda', 'Precio': 10, 'Stock': 15}\n",
      "✔️Se han añadido 10 unidades de 'camisa' al carrito.\n",
      "----------------------------------------------------------------------------\n",
      "Inventario actual:\n",
      "{'Nombre': 'camisa', 'Precio': 3, 'Stock': 10}\n",
      "{'Nombre': 'falda', 'Precio': 10, 'Stock': 15}\n",
      "No hay suficiente stock de 'falda'. Indica una cantidad correcta que aparece en el inventario\n",
      "Inventario actual:\n",
      "{'Nombre': 'camisa', 'Precio': 3, 'Stock': 10}\n",
      "{'Nombre': 'falda', 'Precio': 10, 'Stock': 15}\n",
      "✔️Se han añadido 5 unidades de 'falda' al carrito.\n",
      "----------------------------------------------------------------------------\n",
      "Inventario actual:\n",
      "{'Nombre': 'camisa', 'Precio': 3, 'Stock': 10}\n",
      "{'Nombre': 'falda', 'Precio': 10, 'Stock': 10}\n",
      "➖➖➖➖➖➖➖➖➖➖➖➖➖➖➖➖➖➖➖\n",
      "La cesta de la compra es: \n",
      "Producto: camisa, Precio unitario: 3, Cantidad: 10\n",
      "Producto: falda, Precio unitario: 10, Cantidad: 5\n",
      "El valor total del carrito es 80 €. Gracias vuelva pronto.\n"
     ]
    }
   ],
   "source": [
    "myshop.realizar_compra()"
   ]
  },
  {
   "cell_type": "code",
   "execution_count": 9,
   "metadata": {},
   "outputs": [
    {
     "name": "stdout",
     "output_type": "stream",
     "text": [
      "El valor total del carrito es 80 €\n",
      "Error: cantidad insuficiente para cubrir el total de la compra.\n",
      "Error: could not convert string to float: 'cash'. Introduzca un valor válido.\n",
      "Pago correcto. Su cambio es 20.00 €\n"
     ]
    }
   ],
   "source": [
    "myshop.procesar_pago()"
   ]
  },
  {
   "cell_type": "code",
   "execution_count": 63,
   "metadata": {},
   "outputs": [
    {
     "name": "stdout",
     "output_type": "stream",
     "text": [
      "El cliente se ha añadido correctamente: Nombre: Paquito, Email: paquito@org.com\n",
      "{'paquito': 'paquito@org.com'}\n"
     ]
    }
   ],
   "source": [
    "myshop.agregar_cliente(\"Paquito\", \"paquito@org.com\")\n",
    "print(myshop.clientes)\n"
   ]
  },
  {
   "cell_type": "code",
   "execution_count": 64,
   "metadata": {},
   "outputs": [
    {
     "name": "stdout",
     "output_type": "stream",
     "text": [
      "El cliente Paquito ya existe\n",
      "El cliente se ha añadido correctamente: Nombre: Lola, Email: lola@org.com\n",
      "{'paquito': 'paquito@org.com', 'lola': 'lola@org.com'}\n"
     ]
    }
   ],
   "source": [
    "myshop.agregar_cliente(\"Paquito\", \"paquito@org.com\")\n",
    "myshop.agregar_cliente(\"Lola\", \"lola@org.com\")\n",
    "print(myshop.clientes)"
   ]
  }
 ],
 "metadata": {
  "kernelspec": {
   "display_name": "base",
   "language": "python",
   "name": "python3"
  },
  "language_info": {
   "codemirror_mode": {
    "name": "ipython",
    "version": 3
   },
   "file_extension": ".py",
   "mimetype": "text/x-python",
   "name": "python",
   "nbconvert_exporter": "python",
   "pygments_lexer": "ipython3",
   "version": "3.11.9"
  }
 },
 "nbformat": 4,
 "nbformat_minor": 2
}
