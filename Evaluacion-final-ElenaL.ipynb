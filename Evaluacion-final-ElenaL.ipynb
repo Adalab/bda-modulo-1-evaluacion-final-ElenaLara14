{
 "cells": [
  {
   "cell_type": "code",
   "execution_count": 1,
   "metadata": {},
   "outputs": [],
   "source": [
    "# CREAR CLASE TIENDAONLINE\n",
    "\n",
    "class Tiendaonline:\n",
    "\n",
    "# Crear el método constructor __init__\n",
    "\n",
    "    def __init__(self):\n",
    "        self.inventario =  [] # [{Nombre, Precio, Stock}]\n",
    "        self.clientes = {} # {'Cliente1': {'email':'cliente1@email.com','compras':[] }},\n",
    "        self.ventas = 0.0 # al inicio tipo float con valor 0\n",
    "\n",
    "\n",
    "# a. Agregar método: agregar_producto\n",
    "\n",
    "    def agregar_producto(self, nombre, precio, cantidad):           \n",
    "        # Itera la lista del inventario y compara los nombres para ver si existe\n",
    "        for producto in self.inventario:\n",
    "            # Si el producto ya existe, actualiza la cantidad\n",
    "            if nombre.lower() == producto[\"Nombre\"].lower(): # si nombre igual a clave nombre en el diccionario                                    \n",
    "                producto[\"Stock\"] += cantidad\n",
    "                nueva_cantidad = producto[\"Stock\"] # Aquí actualizamos el nuevo valor de Stock a nueva_cantidad          \n",
    "                print(f\"El producto {nombre} está en el inventario. Su nueva cantidad es: {nueva_cantidad}\")\n",
    "                return\n",
    "            \n",
    "            # Si no existe, se agrega al inventario\n",
    "        self.inventario.append({\"Nombre\": nombre, \"Precio\": precio, \"Stock\": cantidad})   # Si no existe, se agrega un nuevo producto al inventario  \n",
    "        print(f\"El producto se ha añadido correctamente: Nombre: {nombre.capitalize()}, Precio: {precio}, Cantidad: {cantidad}\")  \n",
    "\n",
    "# b. Agregar método ver inventario, permite ver lista de diccionarios de los datos del producto\n",
    "\n",
    "    def ver_inventario(self): \n",
    "        for producto in self.inventario:\n",
    "            print(producto)\n",
    "\n",
    "# c. Agregar método buscar_producto, permite ver si un producto está en el inventario\n",
    "\n",
    "    def buscar_producto (self, nombre):\n",
    "        self.nombre = nombre\n",
    "        for producto in self.inventario: # Compara los nombres de los productos con el nombre proporcionado.\n",
    "            if nombre.lower() == producto[\"Nombre\"].lower(): # Si el nombre coincide con la clave nombre \n",
    "                print(f\"Nombre: {producto['Nombre']}, Precio: ${producto['Precio']}, Cantidad: {producto['Stock']}\") # Si se encuentra el producto, imprime sus detalles.\n",
    "                break\n",
    "            \n",
    "        else:\n",
    "            print(f\"El producto {self.nombre} no existe en el inventario\")\n",
    "\n",
    "# d. Agregar método actualizar_stock, actualiza el stock de un producto en el inventario\n",
    "\n",
    "    def actualizar_stock(self, nombre, cantidad):\n",
    "        for producto in self.inventario:\n",
    "            # Si el producto ya existe, actualiza la cantidad según la cantidad dada por el usuario\n",
    "            if nombre.lower() == producto[\"Nombre\"].lower():                                     \n",
    "                producto[\"Stock\"] == cantidad            \n",
    "                print(f\"El producto {nombre} está en el inventario. Su nueva cantidad es: {cantidad}\")\n",
    "                break\n",
    "            # Si no existe, muestra mensaje indicándolo  \n",
    "        else:\n",
    "            print(f\"El producto {nombre} no existe en el inventario\") \n",
    "\n",
    "# e. Agregar método eliminar_producto, elimina un producto del inventario por nombre.\n",
    "\n",
    "    def eliminar_producto(self, nombre):\n",
    "        for producto in self.inventario:\n",
    "            # Si el producto existe, eliminarlo\n",
    "            if nombre.lower() == producto[\"Nombre\"].lower(): # si el nombre coincide con la clave nombre lo elimina                                 \n",
    "                self.inventario.remove(producto)         \n",
    "                print(f\"El producto {nombre} se ha eliminado correctamente\")\n",
    "                return\n",
    "            # Si no existe, muestra mensaje indicándolo  \n",
    "        else:\n",
    "            print(f\"El producto {nombre} no existe en el inventario\")\n",
    "\n",
    "# f. Agregar método calcular_valor_inventario, calcula y muestra el valor total del inventario.\n",
    "\n",
    "    def calcular_valor_inventario(self):\n",
    "        valor_total = 0 # Creo variable para ir sumando valores por producto\n",
    "        for producto in self.inventario:\n",
    "            valor_producto = producto[\"Precio\"] * producto[\"Stock\"]\n",
    "            valor_total += valor_producto  # Sumamos el valor de cada producto al total\n",
    "    \n",
    "        return f\"El valor total del inventario es {valor_total} €\"\n",
    "    \n",
    "# g. Agregar método realizar_compra, permite a un cliente realizar una compra seleccionando productos del inventario\n",
    "\n",
    "    def realizar_compra(self):\n",
    "        self.carrito = [] # cesta donde almacenamos los productos que quiere el cliente\n",
    "        \n",
    "        while True:\n",
    "           # imprimimos el inventario\n",
    "            print(\"El inventario es: \")\n",
    "            for producto in self.inventario:\n",
    "                print(f\"Nombre: {producto['Nombre']}, Precio: ${producto['Precio']}, Stock: {producto['Stock']}\")\n",
    "\n",
    "            # Preguntamos al cliente por sus preferencias de compra\n",
    "            producto_compra = input(\"Indica que producto deseas comprar:  o teclea 'terminar' para salir\")\n",
    "            \n",
    "            if producto_compra.lower() == 'terminar':\n",
    "                break # salimos de la compra porque el cliente pulsa esc\n",
    "            \n",
    "            for producto in self.inventario: \n",
    "                if producto['Nombre'].lower() == producto_compra.lower():# Verificamos que el producto está en el inventario\n",
    "\n",
    "                    # Preguntamos al cliente por las unidades que quiere comprar\n",
    "                    unidades_compra = int(input(f\"Cantidad de unidades que deseas comprar de '{producto_compra}': \"))\n",
    "              \n",
    "                    if unidades_compra > producto['Stock']:\n",
    "                        print(f\"No hay suficiente stock de '{producto_compra}'. Indica una cantidad correcta que aparece en el inventario\")\n",
    "                    else:\n",
    "                        # Agregar el producto y la cantidad al carrito\n",
    "                        self.carrito.append({\"Nombre\": producto['Nombre'], \"Precio\": producto['Precio'], \"Cantidad\": unidades_compra})\n",
    "                        producto['Stock'] -= unidades_compra # Accedemos a la clave stock y actualizamos el stock quitando unidades compradas\n",
    "                        print(f\"✔️Se han añadido {unidades_compra} unidades de '{producto_compra}' al carrito.\")\n",
    "                        print (\"----------------------------------------------------------------------------\")\n",
    "                        break\n",
    "            \n",
    "            else:\n",
    "                print(f\"El producto '{producto_compra}' no está disponible en el inventario.\")\n",
    "        \n",
    "        print(\"➖➖➖➖➖➖➖➖➖➖➖➖➖➖➖➖➖➖➖\")\n",
    "        print(\"La cesta de la compra es: \") # Mostramos carrito de la compra iterando por producto y coste \n",
    "        total_compra = 0\n",
    "        for producto in self.carrito:\n",
    "            print(f\"Producto: {producto['Nombre']}, Precio unitario: {producto['Precio']}, Cantidad: {producto['Cantidad']}\")\n",
    "            total_compra += producto['Precio'] * producto['Cantidad'] # actualizamos la variable total compra\n",
    "\n",
    "        print(f\"El valor total del carrito es {total_compra} €. Gracias vuelva pronto.\")\n",
    "\n",
    "\n",
    "# EJERCICIOS VOLUNTARIOS \n",
    "# h. Agregar método procesar_pago, procesa el pago de una compra, calcula el cambio y muestra un mensaje de confirmación\n",
    "    def procesar_pago(self):\n",
    "        # Vuelvo a meter función de arriba para que nos indique el total de compra\n",
    "        total_compra = 0\n",
    "        for producto in self.carrito:\n",
    "            total_compra += producto['Precio'] * producto['Cantidad']\n",
    "\n",
    "        print(f\"El valor total del carrito es {total_compra} €\")\n",
    "\n",
    "        while True: # pongo bucle para iterar hasta se complete el pago\n",
    "            try:\n",
    "            # Solicitamos al cliente la cantidad con la que va a pagar\n",
    "                cantidad_pago = float(input(\"Ingrese la cantidad de € con los que va a pagar: \"))\n",
    "            \n",
    "                if cantidad_pago < total_compra: # Avisa al cliente de que no es suficiente dinero\n",
    "                    print(\"Error: cantidad insuficiente para cubrir el total de la compra.\")\n",
    "   \n",
    "                else: \n",
    "                    cambio = cantidad_pago - total_compra # Calcula el cambio si la cantidad es superior a total_compra\n",
    "                    print(f\"Pago correcto. Su cambio es {cambio:.2f} €\")\n",
    "                    break\n",
    "\n",
    "            except ValueError as e: # Metemos el except con el truquito \"e\" para que si no meten un dígito retorne el error\n",
    "                print(f\"Error: {e}. Introduzca un valor válido.\")\n",
    "    \n",
    "# i. Agregar método agregar_cliente, agrega un nuevo cliente al registro de clientes\n",
    "    \n",
    "    def agregar_cliente(self, nombre, email):\n",
    "        nombre_cliente = nombre.lower()  # Convertimos el nombre a minúsculas para evitar duplicados por mayúsculas/minúsculas\n",
    "\n",
    "        if nombre_cliente in self.clientes:  # Verificamos si el cliente ya existe en el diccionario\n",
    "            print(f\"El cliente {nombre.capitalize()} ya existe\")\n",
    "        else:\n",
    "            self.clientes[nombre_cliente.lower()] = ({\"email\": email})   # Agregamos el nuevo cliente al diccionario, con nombre cliente como clave y email como valor\n",
    "            print(f\"El cliente se ha añadido correctamente: Nombre: {nombre.capitalize()}, Email: {email}\")\n",
    "\n",
    "# j. Agregar método ver_clientes, muestra la lista de clientes registrados con sus nombres y correos electrónicos\n",
    "    \n",
    "    def ver_clientes(self):\n",
    "        for cliente, email in self.clientes.items(): # itera en el diccionario y sacamos una linea por cada cliente y email de los items\n",
    "            print(f\"Nombre: { cliente.capitalize()}, Email: {email}\")\n",
    "\n",
    "# k. Agregar método registrar_compra, registra una compra para un cliente, actualiza las ventas totales y agrega la compra al historial del cliente\n",
    "\n",
    "    \"\"\"def registrar_compra(self,nombre_cliente, carrito):\n",
    "            nombre_cliente = nombre_cliente.lower()\n",
    "\n",
    "                if nombre_cliente in self.clientes:\n",
    "                carrito = self.clientes[nombre_cliente][\"Compras\"]\n",
    "                print(f\"Historial de compras de {nombre_cliente.capitalize()}:\")\n",
    "\n",
    "        else:\n",
    "            print(f\"No se puede realizar la acción, el {nombre_cliente} no existe en el diccionario\") \"\"\"\n",
    "    \n",
    "# l. Agregar método ver_compras, muestra el historial de compras de un cliente\n",
    "    \"\"\"def ver_compras_cliente(self, nombre_cliente):\n",
    "        nombre_cliente = nombre_cliente.lower()\n",
    "        \n",
    "        if nombre_cliente in self.clientes:\n",
    "            historial_compras = self.clientes[nombre_cliente][\"Compras\"]\n",
    "            print(f\"Historial de compras de {nombre_cliente.capitalize()}:\")\n",
    "            for compra in historial_compras:\n",
    "                print(f\"Producto: {compra['Producto']}, Precio: {compra['Precio']}, Cantidad: {compra['Cantidad']}\")\n",
    "        else:\n",
    "            print(f\"No se encontró el cliente {nombre_cliente.capitalize()}\")\"\"\"\n",
    "    "
   ]
  },
  {
   "cell_type": "code",
   "execution_count": 2,
   "metadata": {},
   "outputs": [],
   "source": [
    "myshop = Tiendaonline()"
   ]
  },
  {
   "cell_type": "code",
   "execution_count": 3,
   "metadata": {},
   "outputs": [
    {
     "name": "stdout",
     "output_type": "stream",
     "text": [
      "El producto se ha añadido correctamente: Nombre: Botella, Precio: 5, Cantidad: 4\n",
      "El producto botella está en el inventario. Su nueva cantidad es: 8\n",
      "El producto se ha añadido correctamente: Nombre: Silla, Precio: 25, Cantidad: 5\n",
      "El producto se ha añadido correctamente: Nombre: Libro, Precio: 15, Cantidad: 10\n",
      "{'Nombre': 'botella', 'Precio': 5, 'Stock': 8}\n",
      "{'Nombre': 'Silla', 'Precio': 25, 'Stock': 5}\n",
      "{'Nombre': 'Libro', 'Precio': 15, 'Stock': 10}\n"
     ]
    }
   ],
   "source": [
    "myshop.agregar_producto(\"botella\",5, 4)\n",
    "myshop.agregar_producto(\"botella\",5, 4)\n",
    "myshop.agregar_producto(\"Silla\",25,5)\n",
    "myshop.agregar_producto(\"Libro\", 15,10)\n",
    "myshop.ver_inventario()"
   ]
  },
  {
   "cell_type": "code",
   "execution_count": 4,
   "metadata": {},
   "outputs": [
    {
     "name": "stdout",
     "output_type": "stream",
     "text": [
      "Nombre: botella, Precio: $5, Cantidad: 8\n",
      "El producto camisa no existe en el inventario\n"
     ]
    }
   ],
   "source": [
    "myshop.buscar_producto(\"Botella\")\n",
    "myshop.buscar_producto(\"camisa\")"
   ]
  },
  {
   "cell_type": "code",
   "execution_count": 5,
   "metadata": {},
   "outputs": [
    {
     "name": "stdout",
     "output_type": "stream",
     "text": [
      "Nombre: Libro, Precio: $15, Cantidad: 10\n",
      "{'Nombre': 'botella', 'Precio': 5, 'Stock': 8}\n",
      "{'Nombre': 'Silla', 'Precio': 25, 'Stock': 5}\n",
      "{'Nombre': 'Libro', 'Precio': 15, 'Stock': 10}\n"
     ]
    }
   ],
   "source": [
    "myshop.buscar_producto(\"libro\")\n",
    "myshop.ver_inventario()"
   ]
  },
  {
   "cell_type": "code",
   "execution_count": 6,
   "metadata": {},
   "outputs": [
    {
     "name": "stdout",
     "output_type": "stream",
     "text": [
      "El producto Camisa no existe en el inventario\n",
      "El producto botella está en el inventario. Su nueva cantidad es: 5\n"
     ]
    }
   ],
   "source": [
    "myshop.actualizar_stock(\"Camisa\",2)\n",
    "myshop.actualizar_stock(\"botella\",5)"
   ]
  },
  {
   "cell_type": "code",
   "execution_count": 7,
   "metadata": {},
   "outputs": [
    {
     "name": "stdout",
     "output_type": "stream",
     "text": [
      "El producto se ha añadido correctamente: Nombre: Camisa, Precio: 3, Cantidad: 20\n",
      "{'Nombre': 'botella', 'Precio': 5, 'Stock': 8}\n",
      "{'Nombre': 'Silla', 'Precio': 25, 'Stock': 5}\n",
      "{'Nombre': 'Libro', 'Precio': 15, 'Stock': 10}\n",
      "{'Nombre': 'camisa', 'Precio': 3, 'Stock': 20}\n",
      "El producto Botella se ha eliminado correctamente\n",
      "El producto Mesa no existe en el inventario\n",
      "El producto se ha añadido correctamente: Nombre: Falda, Precio: 10, Cantidad: 15\n",
      "{'Nombre': 'Silla', 'Precio': 25, 'Stock': 5}\n",
      "{'Nombre': 'Libro', 'Precio': 15, 'Stock': 10}\n",
      "{'Nombre': 'camisa', 'Precio': 3, 'Stock': 20}\n",
      "{'Nombre': 'falda', 'Precio': 10, 'Stock': 15}\n"
     ]
    }
   ],
   "source": [
    "myshop.agregar_producto(\"camisa\",3, 20)\n",
    "myshop.ver_inventario()\n",
    "myshop.eliminar_producto(\"Botella\")\n",
    "myshop.eliminar_producto(\"Mesa\")\n",
    "myshop.agregar_producto(\"falda\",10, 15)\n",
    "myshop.ver_inventario()"
   ]
  },
  {
   "cell_type": "code",
   "execution_count": 8,
   "metadata": {},
   "outputs": [
    {
     "data": {
      "text/plain": [
       "'El valor total del inventario es 485 €'"
      ]
     },
     "execution_count": 8,
     "metadata": {},
     "output_type": "execute_result"
    }
   ],
   "source": [
    "myshop.calcular_valor_inventario()"
   ]
  },
  {
   "cell_type": "code",
   "execution_count": 9,
   "metadata": {},
   "outputs": [
    {
     "name": "stdout",
     "output_type": "stream",
     "text": [
      "El inventario es: \n",
      "Nombre: Silla, Precio: $25, Stock: 5\n",
      "Nombre: Libro, Precio: $15, Stock: 10\n",
      "Nombre: camisa, Precio: $3, Stock: 20\n",
      "Nombre: falda, Precio: $10, Stock: 15\n",
      "✔️Se han añadido 2 unidades de 'falda' al carrito.\n",
      "----------------------------------------------------------------------------\n",
      "El inventario es: \n",
      "Nombre: Silla, Precio: $25, Stock: 5\n",
      "Nombre: Libro, Precio: $15, Stock: 10\n",
      "Nombre: camisa, Precio: $3, Stock: 20\n",
      "Nombre: falda, Precio: $10, Stock: 13\n",
      "El producto 'vestido' no está disponible en el inventario.\n",
      "El inventario es: \n",
      "Nombre: Silla, Precio: $25, Stock: 5\n",
      "Nombre: Libro, Precio: $15, Stock: 10\n",
      "Nombre: camisa, Precio: $3, Stock: 20\n",
      "Nombre: falda, Precio: $10, Stock: 13\n",
      "✔️Se han añadido 5 unidades de 'silla' al carrito.\n",
      "----------------------------------------------------------------------------\n",
      "El inventario es: \n",
      "Nombre: Silla, Precio: $25, Stock: 0\n",
      "Nombre: Libro, Precio: $15, Stock: 10\n",
      "Nombre: camisa, Precio: $3, Stock: 20\n",
      "Nombre: falda, Precio: $10, Stock: 13\n",
      "No hay suficiente stock de 'camisa'. Indica una cantidad correcta que aparece en el inventario\n",
      "El producto 'camisa' no está disponible en el inventario.\n",
      "El inventario es: \n",
      "Nombre: Silla, Precio: $25, Stock: 0\n",
      "Nombre: Libro, Precio: $15, Stock: 10\n",
      "Nombre: camisa, Precio: $3, Stock: 20\n",
      "Nombre: falda, Precio: $10, Stock: 13\n",
      "➖➖➖➖➖➖➖➖➖➖➖➖➖➖➖➖➖➖➖\n",
      "La cesta de la compra es: \n",
      "Producto: falda, Precio unitario: 10, Cantidad: 2\n",
      "Producto: Silla, Precio unitario: 25, Cantidad: 5\n",
      "El valor total del carrito es 145 €. Gracias vuelva pronto.\n"
     ]
    }
   ],
   "source": [
    "myshop.realizar_compra()"
   ]
  },
  {
   "cell_type": "code",
   "execution_count": 10,
   "metadata": {},
   "outputs": [
    {
     "name": "stdout",
     "output_type": "stream",
     "text": [
      "El valor total del carrito es 145 €\n",
      "Error: cantidad insuficiente para cubrir el total de la compra.\n",
      "Error: could not convert string to float: 'cash'. Introduzca un valor válido.\n",
      "Pago correcto. Su cambio es 5.00 €\n"
     ]
    }
   ],
   "source": [
    "myshop.procesar_pago()"
   ]
  },
  {
   "cell_type": "code",
   "execution_count": 11,
   "metadata": {},
   "outputs": [
    {
     "name": "stdout",
     "output_type": "stream",
     "text": [
      "El cliente se ha añadido correctamente: Nombre: Paquito, Email: paquito@org.com\n",
      "{'paquito': {'email': 'paquito@org.com'}}\n"
     ]
    }
   ],
   "source": [
    "myshop.agregar_cliente(\"Paquito\", \"paquito@org.com\")\n",
    "print(myshop.clientes)\n"
   ]
  },
  {
   "cell_type": "code",
   "execution_count": 12,
   "metadata": {},
   "outputs": [
    {
     "name": "stdout",
     "output_type": "stream",
     "text": [
      "El cliente Paquito ya existe\n",
      "El cliente se ha añadido correctamente: Nombre: Lola, Email: lola@org.com\n",
      "{'paquito': {'email': 'paquito@org.com'}, 'lola': {'email': 'lola@org.com'}}\n"
     ]
    }
   ],
   "source": [
    "myshop.agregar_cliente(\"Paquito\", \"paquito@org.com\")\n",
    "myshop.agregar_cliente(\"Lola\", \"lola@org.com\")\n",
    "print(myshop.clientes)"
   ]
  },
  {
   "cell_type": "code",
   "execution_count": 13,
   "metadata": {},
   "outputs": [
    {
     "name": "stdout",
     "output_type": "stream",
     "text": [
      "Nombre: Paquito, Email: {'email': 'paquito@org.com'}\n",
      "Nombre: Lola, Email: {'email': 'lola@org.com'}\n"
     ]
    }
   ],
   "source": [
    "myshop.ver_clientes()"
   ]
  }
 ],
 "metadata": {
  "kernelspec": {
   "display_name": "base",
   "language": "python",
   "name": "python3"
  },
  "language_info": {
   "codemirror_mode": {
    "name": "ipython",
    "version": 3
   },
   "file_extension": ".py",
   "mimetype": "text/x-python",
   "name": "python",
   "nbconvert_exporter": "python",
   "pygments_lexer": "ipython3",
   "version": "3.11.9"
  }
 },
 "nbformat": 4,
 "nbformat_minor": 2
}
